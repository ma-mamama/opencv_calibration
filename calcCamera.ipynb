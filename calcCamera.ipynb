{
 "metadata": {
  "language_info": {
   "codemirror_mode": {
    "name": "ipython",
    "version": 3
   },
   "file_extension": ".py",
   "mimetype": "text/x-python",
   "name": "python",
   "nbconvert_exporter": "python",
   "pygments_lexer": "ipython3",
   "version": "3.6.8-final"
  },
  "orig_nbformat": 2,
  "kernelspec": {
   "name": "python_defaultSpec_1598678250860",
   "display_name": "Python 3.6.8 64-bit"
  }
 },
 "nbformat": 4,
 "nbformat_minor": 2,
 "cells": [
  {
   "cell_type": "code",
   "execution_count": null,
   "metadata": {},
   "outputs": [],
   "source": [
    "#参考サイト\n",
    "#http://rikoubou.hatenablog.com/entry/2019/03/26/143556\n",
    "#https://kamino.hatenablog.com/entry/opencv_calibrate_camera"
   ]
  },
  {
   "cell_type": "code",
   "execution_count": 1,
   "metadata": {},
   "outputs": [],
   "source": [
    "#\n",
    "#カメラのゆがみを戻すための値を計算する\n",
    "#"
   ]
  },
  {
   "cell_type": "code",
   "execution_count": 2,
   "metadata": {},
   "outputs": [],
   "source": [
    "import numpy as np\n",
    "import cv2\n",
    "import glob\n",
    "from time import sleep\n",
    "from datetime import datetime"
   ]
  },
  {
   "cell_type": "code",
   "execution_count": 3,
   "metadata": {},
   "outputs": [],
   "source": [
    "TMP_FOLDER_PATH = \"./temp/\"\n",
    "MTX_PATH = TMP_FOLDER_PATH + \"mtx.csv\"\n",
    "DIST_PATH = TMP_FOLDER_PATH + \"dist.csv\""
   ]
  },
  {
   "cell_type": "code",
   "execution_count": 4,
   "metadata": {
    "tags": []
   },
   "outputs": [
    {
     "output_type": "stream",
     "name": "stdout",
     "text": "loading..../img\\20200829_140946.png\nsaved: ./temp/20200829_141748.png\nloading..../img\\20200829_140952.png\nsaved: ./temp/20200829_141749.png\nloading..../img\\20200829_140957.png\nsaved: ./temp/20200829_141750.png\nloading..../img\\20200829_141003.png\nsaved: ./temp/20200829_141751.png\nloading..../img\\20200829_141015.png\nsaved: ./temp/20200829_141752.png\nloading..../img\\20200829_141022.png\nsaved: ./temp/20200829_141753.png\nloading..../img\\20200829_141026.png\nsaved: ./temp/20200829_141754.png\nloading..../img\\20200829_141031.png\nsaved: ./temp/20200829_141755.png\nloading..../img\\20200829_141041.png\nsaved: ./temp/20200829_141756.png\nloading..../img\\20200829_141047.png\nsaved: ./temp/20200829_141758.png\nloading..../img\\20200829_141103.png\nsaved: ./temp/20200829_141759.png\nloading..../img\\20200829_141117.png\nsaved: ./temp/20200829_141800.png\nloading..../img\\20200829_141123.png\nsaved: ./temp/20200829_141801.png\nloading..../img\\20200829_141135.png\nsaved: ./temp/20200829_141802.png\nloading..../img\\20200829_141147.png\nsaved: ./temp/20200829_141803.png\nloading..../img\\20200829_141151.png\nsaved: ./temp/20200829_141804.png\nloading..../img\\20200829_141155.png\nsaved: ./temp/20200829_141805.png\nloading..../img\\20200829_141159.png\nsaved: ./temp/20200829_141806.png\nloading..../img\\20200829_141205.png\nsaved: ./temp/20200829_141807.png\nloading..../img\\20200829_141226.png\nsaved: ./temp/20200829_141808.png\nloading..../img\\20200829_141235.png\nsaved: ./temp/20200829_141809.png\nRMS =  0.18813176588593233\nK = \n [[797.45694047   0.         340.49975929]\n [  0.         827.72981519 244.41154842]\n [  0.           0.           1.        ]]\nd =  [-4.64318028e-02  7.03780431e-01  3.70044579e-04  7.03292608e-04\n -3.29915567e+00]\n"
    }
   ],
   "source": [
    "def main():\n",
    "    calcCamera()\n",
    "\n",
    "#カメラのゆがみを計算する関数\n",
    "def calcCamera():\n",
    "    square_size = 25.0 #正方形のサイズ(mm)\n",
    "    pattern_size = (7, 7)\n",
    "    #チェスボード(X,Y,Z)座標の指定(Z=0)\n",
    "    pattern_points = np.zeros((np.prod(pattern_size), 3), np.float32)\n",
    "    pattern_points[:,:2] = np.indices(pattern_size).T.reshape(-1,2)\n",
    "    pattern_points *= square_size\n",
    "    obj_points = []\n",
    "    img_points = []\n",
    "\n",
    "    for fn in glob.glob(\"./img/*\"):\n",
    "        #画像の取得\n",
    "        im = cv2.imread(fn,0)\n",
    "        print(\"loading...\" + fn)\n",
    "        #チェスボードのコーナーの検出\n",
    "        found, corner = cv2.findChessboardCorners(im, pattern_size)\n",
    "        #コーナーがあれば\n",
    "        if found:\n",
    "            term = (cv2.TERM_CRITERIA_EPS + cv2.TermCriteria_COUNT, 30, 0.1)\n",
    "            corners2 = cv2.cornerSubPix(im, corner, (5,5), (-1, -1), term)\n",
    "            #マークを付けて画像保存\n",
    "            img = cv2.drawChessboardCorners(im, pattern_size, corners2, found)\n",
    "            saveImgByTime(TMP_FOLDER_PATH, img)\n",
    "            sleep(1)\n",
    "        #コーナーがない場合のエラー処理\n",
    "        if not found:\n",
    "            print('chessboard not found')\n",
    "            continue\n",
    "        #appendメソッド：リストの最後に引数のオブジェクトを追加\n",
    "        img_points.append(corner.reshape(-1, 2))\n",
    "        obj_points.append(pattern_points)\n",
    "    \n",
    "    #内部パラメータを計算\n",
    "    rms, K, d, r, t = cv2.calibrateCamera(obj_points, img_points, (im.shape[1], im.shape[0]), None, None)\n",
    "    \n",
    "    #計算結果を表示\n",
    "    print(\"RMS = \", rms)\n",
    "    print(\"K = \\n\", K)\n",
    "    print(\"d = \", d.ravel())\n",
    "\n",
    "    #ファイル保存\n",
    "    saveCalibrationFile(K, d, MTX_PATH, DIST_PATH)\n",
    "\n",
    "#キャリブレーションCSVファイルを上書き保存する関数\n",
    "def saveCalibrationFile(mtx, dist, mtx_path, dist_path):\n",
    "    #カメラ行列の保存\n",
    "    np.savetxt(mtx_path, mtx, delimiter = ',', fmt=\"%0.14f\")\n",
    "    #歪み係数の保存\n",
    "    np.savetxt(dist_path, dist, delimiter = ',', fmt=\"%0.14f\")\n",
    "\n",
    "#画像を時刻で保存する関数\n",
    "def saveImgByTime(dirPath, img):\n",
    "    # 時刻を取得\n",
    "    date = datetime.now().strftime(\"%Y%m%d_%H%M%S\")\n",
    "    path = dirPath + date + \".png\"\n",
    "    cv2.imwrite(path, img) # ファイル保存\n",
    "    print(\"saved:\", path)\n",
    "\n",
    "if __name__== '__main__':\n",
    "    main()"
   ]
  },
  {
   "cell_type": "code",
   "execution_count": null,
   "metadata": {},
   "outputs": [],
   "source": []
  }
 ]
}