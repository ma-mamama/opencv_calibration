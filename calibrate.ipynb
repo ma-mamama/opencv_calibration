{
 "metadata": {
  "language_info": {
   "codemirror_mode": {
    "name": "ipython",
    "version": 3
   },
   "file_extension": ".py",
   "mimetype": "text/x-python",
   "name": "python",
   "nbconvert_exporter": "python",
   "pygments_lexer": "ipython3",
   "version": "3.6.8-final"
  },
  "orig_nbformat": 2,
  "kernelspec": {
   "name": "python_defaultSpec_1598678348462",
   "display_name": "Python 3.6.8 64-bit"
  }
 },
 "nbformat": 4,
 "nbformat_minor": 2,
 "cells": [
  {
   "cell_type": "code",
   "execution_count": 1,
   "metadata": {},
   "outputs": [],
   "source": [
    "#\n",
    "#カメラのゆがみを補正する\n",
    "#"
   ]
  },
  {
   "cell_type": "code",
   "execution_count": 2,
   "metadata": {
    "tags": []
   },
   "outputs": [
    {
     "output_type": "stream",
     "name": "stdout",
     "text": "imported\n"
    }
   ],
   "source": [
    "import numpy as np\n",
    "import cv2\n",
    "import glob\n",
    "from time import sleep\n",
    "from datetime import datetime\n",
    "print(\"imported\")"
   ]
  },
  {
   "cell_type": "code",
   "execution_count": 3,
   "metadata": {},
   "outputs": [],
   "source": [
    "TMP_FOLDER_PATH = \"./temp/\"\n",
    "MTX_PATH = TMP_FOLDER_PATH + \"mtx.csv\"\n",
    "DIST_PATH = TMP_FOLDER_PATH + \"dist.csv\"\n",
    "SAVE_FOLDER_PATH = \"./result/\""
   ]
  },
  {
   "cell_type": "code",
   "execution_count": 4,
   "metadata": {
    "tags": []
   },
   "outputs": [
    {
     "output_type": "stream",
     "name": "stdout",
     "text": "saved: ./result/20200829_141956.png\nsaved: ./result/20200829_141957.png\nsaved: ./result/20200829_141958.png\nsaved: ./result/20200829_141959.png\nsaved: ./result/20200829_142000.png\nsaved: ./result/20200829_142001.png\nsaved: ./result/20200829_142002.png\nsaved: ./result/20200829_142003.png\nsaved: ./result/20200829_142005.png\nsaved: ./result/20200829_142006.png\nsaved: ./result/20200829_142007.png\nsaved: ./result/20200829_142008.png\nsaved: ./result/20200829_142009.png\nsaved: ./result/20200829_142010.png\nsaved: ./result/20200829_142011.png\nsaved: ./result/20200829_142012.png\nsaved: ./result/20200829_142013.png\nsaved: ./result/20200829_142015.png\nsaved: ./result/20200829_142016.png\nsaved: ./result/20200829_142017.png\nsaved: ./result/20200829_142018.png\nend\n"
    }
   ],
   "source": [
    "# メイン関数\n",
    "def main():\n",
    "    #画像のゆがみを補正\n",
    "    calibrateImage() \n",
    "    print(\"end\")\n",
    "# カメラの歪みをCSVファイルをもとに補正する関数\n",
    "def calibrateImage():\n",
    "    mtx, dist = loadCalibrationFile(MTX_PATH, DIST_PATH)\n",
    "\n",
    "    for fn in glob.glob(\"./img/*\"):\n",
    "        img = cv2.imread(fn)\n",
    "        # 内部パラメータをもとに画像補正\n",
    "        resultImg = cv2.undistort(img, mtx, dist, None)\n",
    "        saveImgByTime(SAVE_FOLDER_PATH, resultImg)\n",
    "        sleep(1)\n",
    "\n",
    "#キャリブレーションCSVファイルを読み込む関数\n",
    "def loadCalibrationFile(mtx_path, dist_path):\n",
    "    try:\n",
    "        mtx = np.loadtxt(mtx_path, delimiter=',')\n",
    "        dist = np.loadtxt(dist_path, delimiter=',')\n",
    "    except Exception as e:\n",
    "        raise e\n",
    "    return mtx, dist\n",
    "\n",
    "# 画像を時刻で保存する関数\n",
    "def saveImgByTime(dirPath, img):\n",
    "    #時刻を取得\n",
    "    date = datetime.now().strftime(\"%Y%m%d_%H%M%S\")\n",
    "    path = dirPath + date + \".png\"\n",
    "    #ファイル保存\n",
    "    cv2.imwrite(path, img)\n",
    "    print(\"saved:\", path)\n",
    "\n",
    "if __name__ == '__main__':\n",
    "    main()"
   ]
  },
  {
   "cell_type": "code",
   "execution_count": null,
   "metadata": {},
   "outputs": [],
   "source": []
  }
 ]
}