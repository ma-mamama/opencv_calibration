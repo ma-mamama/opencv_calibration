{
 "metadata": {
  "language_info": {
   "codemirror_mode": {
    "name": "ipython",
    "version": 3
   },
   "file_extension": ".py",
   "mimetype": "text/x-python",
   "name": "python",
   "nbconvert_exporter": "python",
   "pygments_lexer": "ipython3",
   "version": "3.6.8-final"
  },
  "orig_nbformat": 2,
  "kernelspec": {
   "name": "python_defaultSpec_1598677678275",
   "display_name": "Python 3.6.8 64-bit"
  }
 },
 "nbformat": 4,
 "nbformat_minor": 2,
 "cells": [
  {
   "cell_type": "code",
   "execution_count": 1,
   "metadata": {},
   "outputs": [],
   "source": [
    "import cv2\n",
    "from datetime import datetime"
   ]
  },
  {
   "cell_type": "code",
   "execution_count": 2,
   "metadata": {
    "tags": []
   },
   "outputs": [
    {
     "output_type": "stream",
     "name": "stdout",
     "text": "20200829_140946撮影しました\n20200829_140952撮影しました\n20200829_140957撮影しました\n20200829_141003撮影しました\n20200829_141015撮影しました\n20200829_141022撮影しました\n20200829_141026撮影しました\n20200829_141031撮影しました\n20200829_141041撮影しました\n20200829_141047撮影しました\n20200829_141103撮影しました\n20200829_141117撮影しました\n20200829_141123撮影しました\n20200829_141135撮影しました\n20200829_141147撮影しました\n20200829_141151撮影しました\n20200829_141155撮影しました\n20200829_141159撮影しました\n20200829_141205撮影しました\n20200829_141226撮影しました\n20200829_141235撮影しました\n"
    }
   ],
   "source": [
    "camera = cv2.VideoCapture(0)\n",
    "savepath = \"./img/\"\n",
    "while(True):\n",
    "    key = cv2.waitKey(1) & 0xFF\n",
    "    if key == ord(' '):\n",
    "        break\n",
    "    ret, frame = camera.read()\n",
    "    cv2.imshow(\"frame\", frame)\n",
    "    if key == ord('s'):\n",
    "        date = datetime.now().strftime(\"%Y%m%d_%H%M%S\")\n",
    "        name = savepath + date + \".png\"\n",
    "        cv2.imwrite(name, frame)\n",
    "        print(date +\"撮影しました\")\n",
    "\n",
    "camera.release()\n",
    "cv2.destroyAllWindows()"
   ]
  },
  {
   "cell_type": "code",
   "execution_count": null,
   "metadata": {},
   "outputs": [],
   "source": []
  }
 ]
}